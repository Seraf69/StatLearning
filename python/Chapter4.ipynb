{
 "metadata": {
  "name": "",
  "signature": "sha256:15b53393c157bc1cc8a32ffd6b997a18e0d7cc5fc488da446e57825c6fd3a97e"
 },
 "nbformat": 3,
 "nbformat_minor": 0,
 "worksheets": [
  {
   "cells": [
    {
     "cell_type": "code",
     "collapsed": false,
     "input": [
      "%matplotlib inline\n",
      "from IPython import display\n",
      "\n",
      "from __future__ import division, print_function\n",
      "\n",
      "import numpy as np\n",
      "import pandas as pd\n",
      "import matplotlib.pyplot as plt\n",
      "import seaborn as sns"
     ],
     "language": "python",
     "metadata": {},
     "outputs": [],
     "prompt_number": 31
    },
    {
     "cell_type": "code",
     "collapsed": false,
     "input": [
      "df = pd.read_csv('../data/smarket.csv', index_col=0)\n",
      "df.head()"
     ],
     "language": "python",
     "metadata": {},
     "outputs": [
      {
       "html": [
        "<div style=\"max-height:1000px;max-width:1500px;overflow:auto;\">\n",
        "<table border=\"1\" class=\"dataframe\">\n",
        "  <thead>\n",
        "    <tr style=\"text-align: right;\">\n",
        "      <th></th>\n",
        "      <th>Year</th>\n",
        "      <th>Lag1</th>\n",
        "      <th>Lag2</th>\n",
        "      <th>Lag3</th>\n",
        "      <th>Lag4</th>\n",
        "      <th>Lag5</th>\n",
        "      <th>Volume</th>\n",
        "      <th>Today</th>\n",
        "      <th>Direction</th>\n",
        "    </tr>\n",
        "  </thead>\n",
        "  <tbody>\n",
        "    <tr>\n",
        "      <th>1</th>\n",
        "      <td> 2001</td>\n",
        "      <td> 0.381</td>\n",
        "      <td>-0.192</td>\n",
        "      <td>-2.624</td>\n",
        "      <td>-1.055</td>\n",
        "      <td> 5.010</td>\n",
        "      <td> 1.1913</td>\n",
        "      <td> 0.959</td>\n",
        "      <td>   Up</td>\n",
        "    </tr>\n",
        "    <tr>\n",
        "      <th>2</th>\n",
        "      <td> 2001</td>\n",
        "      <td> 0.959</td>\n",
        "      <td> 0.381</td>\n",
        "      <td>-0.192</td>\n",
        "      <td>-2.624</td>\n",
        "      <td>-1.055</td>\n",
        "      <td> 1.2965</td>\n",
        "      <td> 1.032</td>\n",
        "      <td>   Up</td>\n",
        "    </tr>\n",
        "    <tr>\n",
        "      <th>3</th>\n",
        "      <td> 2001</td>\n",
        "      <td> 1.032</td>\n",
        "      <td> 0.959</td>\n",
        "      <td> 0.381</td>\n",
        "      <td>-0.192</td>\n",
        "      <td>-2.624</td>\n",
        "      <td> 1.4112</td>\n",
        "      <td>-0.623</td>\n",
        "      <td> Down</td>\n",
        "    </tr>\n",
        "    <tr>\n",
        "      <th>4</th>\n",
        "      <td> 2001</td>\n",
        "      <td>-0.623</td>\n",
        "      <td> 1.032</td>\n",
        "      <td> 0.959</td>\n",
        "      <td> 0.381</td>\n",
        "      <td>-0.192</td>\n",
        "      <td> 1.2760</td>\n",
        "      <td> 0.614</td>\n",
        "      <td>   Up</td>\n",
        "    </tr>\n",
        "    <tr>\n",
        "      <th>5</th>\n",
        "      <td> 2001</td>\n",
        "      <td> 0.614</td>\n",
        "      <td>-0.623</td>\n",
        "      <td> 1.032</td>\n",
        "      <td> 0.959</td>\n",
        "      <td> 0.381</td>\n",
        "      <td> 1.2057</td>\n",
        "      <td> 0.213</td>\n",
        "      <td>   Up</td>\n",
        "    </tr>\n",
        "  </tbody>\n",
        "</table>\n",
        "<p>5 rows \u00d7 9 columns</p>\n",
        "</div>"
       ],
       "metadata": {},
       "output_type": "pyout",
       "prompt_number": 10,
       "text": [
        "   Year   Lag1   Lag2   Lag3   Lag4   Lag5  Volume  Today Direction\n",
        "1  2001  0.381 -0.192 -2.624 -1.055  5.010  1.1913  0.959        Up\n",
        "2  2001  0.959  0.381 -0.192 -2.624 -1.055  1.2965  1.032        Up\n",
        "3  2001  1.032  0.959  0.381 -0.192 -2.624  1.4112 -0.623      Down\n",
        "4  2001 -0.623  1.032  0.959  0.381 -0.192  1.2760  0.614        Up\n",
        "5  2001  0.614 -0.623  1.032  0.959  0.381  1.2057  0.213        Up\n",
        "\n",
        "[5 rows x 9 columns]"
       ]
      }
     ],
     "prompt_number": 10
    },
    {
     "cell_type": "markdown",
     "metadata": {},
     "source": [
      "This data set consists of percentage returns for the S&P 500 stock index over 1,250 days, from the beginning of 2001 until the end of 2005. For each date, we have recorded the percentage returns for each of the five previous trading days, `Lag1` through `Lag5`. We have also recorded `Volume` (the number of shares traded on the previous day, in billions), `Today` (the percentage return on the date in question) and `Direction` (whether the market was Up or Down on this date).\n",
      "\n",
      "*--ISLR p. 144*"
     ]
    },
    {
     "cell_type": "code",
     "collapsed": false,
     "input": [
      "df.describe()"
     ],
     "language": "python",
     "metadata": {},
     "outputs": [
      {
       "html": [
        "<div style=\"max-height:1000px;max-width:1500px;overflow:auto;\">\n",
        "<table border=\"1\" class=\"dataframe\">\n",
        "  <thead>\n",
        "    <tr style=\"text-align: right;\">\n",
        "      <th></th>\n",
        "      <th>Year</th>\n",
        "      <th>Lag1</th>\n",
        "      <th>Lag2</th>\n",
        "      <th>Lag3</th>\n",
        "      <th>Lag4</th>\n",
        "      <th>Lag5</th>\n",
        "      <th>Volume</th>\n",
        "      <th>Today</th>\n",
        "    </tr>\n",
        "  </thead>\n",
        "  <tbody>\n",
        "    <tr>\n",
        "      <th>count</th>\n",
        "      <td> 1250.000000</td>\n",
        "      <td> 1250.000000</td>\n",
        "      <td> 1250.000000</td>\n",
        "      <td> 1250.000000</td>\n",
        "      <td> 1250.000000</td>\n",
        "      <td> 1250.00000</td>\n",
        "      <td> 1250.000000</td>\n",
        "      <td> 1250.000000</td>\n",
        "    </tr>\n",
        "    <tr>\n",
        "      <th>mean</th>\n",
        "      <td> 2003.016000</td>\n",
        "      <td>    0.003834</td>\n",
        "      <td>    0.003919</td>\n",
        "      <td>    0.001716</td>\n",
        "      <td>    0.001636</td>\n",
        "      <td>    0.00561</td>\n",
        "      <td>    1.478305</td>\n",
        "      <td>    0.003138</td>\n",
        "    </tr>\n",
        "    <tr>\n",
        "      <th>std</th>\n",
        "      <td>    1.409018</td>\n",
        "      <td>    1.136299</td>\n",
        "      <td>    1.136280</td>\n",
        "      <td>    1.138703</td>\n",
        "      <td>    1.138774</td>\n",
        "      <td>    1.14755</td>\n",
        "      <td>    0.360357</td>\n",
        "      <td>    1.136334</td>\n",
        "    </tr>\n",
        "    <tr>\n",
        "      <th>min</th>\n",
        "      <td> 2001.000000</td>\n",
        "      <td>   -4.922000</td>\n",
        "      <td>   -4.922000</td>\n",
        "      <td>   -4.922000</td>\n",
        "      <td>   -4.922000</td>\n",
        "      <td>   -4.92200</td>\n",
        "      <td>    0.356070</td>\n",
        "      <td>   -4.922000</td>\n",
        "    </tr>\n",
        "    <tr>\n",
        "      <th>25%</th>\n",
        "      <td> 2002.000000</td>\n",
        "      <td>   -0.639500</td>\n",
        "      <td>   -0.639500</td>\n",
        "      <td>   -0.640000</td>\n",
        "      <td>   -0.640000</td>\n",
        "      <td>   -0.64000</td>\n",
        "      <td>    1.257400</td>\n",
        "      <td>   -0.639500</td>\n",
        "    </tr>\n",
        "    <tr>\n",
        "      <th>50%</th>\n",
        "      <td> 2003.000000</td>\n",
        "      <td>    0.039000</td>\n",
        "      <td>    0.039000</td>\n",
        "      <td>    0.038500</td>\n",
        "      <td>    0.038500</td>\n",
        "      <td>    0.03850</td>\n",
        "      <td>    1.422950</td>\n",
        "      <td>    0.038500</td>\n",
        "    </tr>\n",
        "    <tr>\n",
        "      <th>75%</th>\n",
        "      <td> 2004.000000</td>\n",
        "      <td>    0.596750</td>\n",
        "      <td>    0.596750</td>\n",
        "      <td>    0.596750</td>\n",
        "      <td>    0.596750</td>\n",
        "      <td>    0.59700</td>\n",
        "      <td>    1.641675</td>\n",
        "      <td>    0.596750</td>\n",
        "    </tr>\n",
        "    <tr>\n",
        "      <th>max</th>\n",
        "      <td> 2005.000000</td>\n",
        "      <td>    5.733000</td>\n",
        "      <td>    5.733000</td>\n",
        "      <td>    5.733000</td>\n",
        "      <td>    5.733000</td>\n",
        "      <td>    5.73300</td>\n",
        "      <td>    3.152470</td>\n",
        "      <td>    5.733000</td>\n",
        "    </tr>\n",
        "  </tbody>\n",
        "</table>\n",
        "<p>8 rows \u00d7 8 columns</p>\n",
        "</div>"
       ],
       "metadata": {},
       "output_type": "pyout",
       "prompt_number": 11,
       "text": [
        "              Year         Lag1         Lag2         Lag3         Lag4  \\\n",
        "count  1250.000000  1250.000000  1250.000000  1250.000000  1250.000000   \n",
        "mean   2003.016000     0.003834     0.003919     0.001716     0.001636   \n",
        "std       1.409018     1.136299     1.136280     1.138703     1.138774   \n",
        "min    2001.000000    -4.922000    -4.922000    -4.922000    -4.922000   \n",
        "25%    2002.000000    -0.639500    -0.639500    -0.640000    -0.640000   \n",
        "50%    2003.000000     0.039000     0.039000     0.038500     0.038500   \n",
        "75%    2004.000000     0.596750     0.596750     0.596750     0.596750   \n",
        "max    2005.000000     5.733000     5.733000     5.733000     5.733000   \n",
        "\n",
        "             Lag5       Volume        Today  \n",
        "count  1250.00000  1250.000000  1250.000000  \n",
        "mean      0.00561     1.478305     0.003138  \n",
        "std       1.14755     0.360357     1.136334  \n",
        "min      -4.92200     0.356070    -4.922000  \n",
        "25%      -0.64000     1.257400    -0.639500  \n",
        "50%       0.03850     1.422950     0.038500  \n",
        "75%       0.59700     1.641675     0.596750  \n",
        "max       5.73300     3.152470     5.733000  \n",
        "\n",
        "[8 rows x 8 columns]"
       ]
      }
     ],
     "prompt_number": 11
    },
    {
     "cell_type": "code",
     "collapsed": false,
     "input": [
      "df.corr()"
     ],
     "language": "python",
     "metadata": {},
     "outputs": [
      {
       "html": [
        "<div style=\"max-height:1000px;max-width:1500px;overflow:auto;\">\n",
        "<table border=\"1\" class=\"dataframe\">\n",
        "  <thead>\n",
        "    <tr style=\"text-align: right;\">\n",
        "      <th></th>\n",
        "      <th>Year</th>\n",
        "      <th>Lag1</th>\n",
        "      <th>Lag2</th>\n",
        "      <th>Lag3</th>\n",
        "      <th>Lag4</th>\n",
        "      <th>Lag5</th>\n",
        "      <th>Volume</th>\n",
        "      <th>Today</th>\n",
        "    </tr>\n",
        "  </thead>\n",
        "  <tbody>\n",
        "    <tr>\n",
        "      <th>Year</th>\n",
        "      <td> 1.000000</td>\n",
        "      <td> 0.029700</td>\n",
        "      <td> 0.030596</td>\n",
        "      <td> 0.033195</td>\n",
        "      <td> 0.035689</td>\n",
        "      <td> 0.029788</td>\n",
        "      <td> 0.539006</td>\n",
        "      <td> 0.030095</td>\n",
        "    </tr>\n",
        "    <tr>\n",
        "      <th>Lag1</th>\n",
        "      <td> 0.029700</td>\n",
        "      <td> 1.000000</td>\n",
        "      <td>-0.026294</td>\n",
        "      <td>-0.010803</td>\n",
        "      <td>-0.002986</td>\n",
        "      <td>-0.005675</td>\n",
        "      <td> 0.040910</td>\n",
        "      <td>-0.026155</td>\n",
        "    </tr>\n",
        "    <tr>\n",
        "      <th>Lag2</th>\n",
        "      <td> 0.030596</td>\n",
        "      <td>-0.026294</td>\n",
        "      <td> 1.000000</td>\n",
        "      <td>-0.025897</td>\n",
        "      <td>-0.010854</td>\n",
        "      <td>-0.003558</td>\n",
        "      <td>-0.043383</td>\n",
        "      <td>-0.010250</td>\n",
        "    </tr>\n",
        "    <tr>\n",
        "      <th>Lag3</th>\n",
        "      <td> 0.033195</td>\n",
        "      <td>-0.010803</td>\n",
        "      <td>-0.025897</td>\n",
        "      <td> 1.000000</td>\n",
        "      <td>-0.024051</td>\n",
        "      <td>-0.018808</td>\n",
        "      <td>-0.041824</td>\n",
        "      <td>-0.002448</td>\n",
        "    </tr>\n",
        "    <tr>\n",
        "      <th>Lag4</th>\n",
        "      <td> 0.035689</td>\n",
        "      <td>-0.002986</td>\n",
        "      <td>-0.010854</td>\n",
        "      <td>-0.024051</td>\n",
        "      <td> 1.000000</td>\n",
        "      <td>-0.027084</td>\n",
        "      <td>-0.048414</td>\n",
        "      <td>-0.006900</td>\n",
        "    </tr>\n",
        "    <tr>\n",
        "      <th>Lag5</th>\n",
        "      <td> 0.029788</td>\n",
        "      <td>-0.005675</td>\n",
        "      <td>-0.003558</td>\n",
        "      <td>-0.018808</td>\n",
        "      <td>-0.027084</td>\n",
        "      <td> 1.000000</td>\n",
        "      <td>-0.022002</td>\n",
        "      <td>-0.034860</td>\n",
        "    </tr>\n",
        "    <tr>\n",
        "      <th>Volume</th>\n",
        "      <td> 0.539006</td>\n",
        "      <td> 0.040910</td>\n",
        "      <td>-0.043383</td>\n",
        "      <td>-0.041824</td>\n",
        "      <td>-0.048414</td>\n",
        "      <td>-0.022002</td>\n",
        "      <td> 1.000000</td>\n",
        "      <td> 0.014592</td>\n",
        "    </tr>\n",
        "    <tr>\n",
        "      <th>Today</th>\n",
        "      <td> 0.030095</td>\n",
        "      <td>-0.026155</td>\n",
        "      <td>-0.010250</td>\n",
        "      <td>-0.002448</td>\n",
        "      <td>-0.006900</td>\n",
        "      <td>-0.034860</td>\n",
        "      <td> 0.014592</td>\n",
        "      <td> 1.000000</td>\n",
        "    </tr>\n",
        "  </tbody>\n",
        "</table>\n",
        "<p>8 rows \u00d7 8 columns</p>\n",
        "</div>"
       ],
       "metadata": {},
       "output_type": "pyout",
       "prompt_number": 12,
       "text": [
        "            Year      Lag1      Lag2      Lag3      Lag4      Lag5    Volume  \\\n",
        "Year    1.000000  0.029700  0.030596  0.033195  0.035689  0.029788  0.539006   \n",
        "Lag1    0.029700  1.000000 -0.026294 -0.010803 -0.002986 -0.005675  0.040910   \n",
        "Lag2    0.030596 -0.026294  1.000000 -0.025897 -0.010854 -0.003558 -0.043383   \n",
        "Lag3    0.033195 -0.010803 -0.025897  1.000000 -0.024051 -0.018808 -0.041824   \n",
        "Lag4    0.035689 -0.002986 -0.010854 -0.024051  1.000000 -0.027084 -0.048414   \n",
        "Lag5    0.029788 -0.005675 -0.003558 -0.018808 -0.027084  1.000000 -0.022002   \n",
        "Volume  0.539006  0.040910 -0.043383 -0.041824 -0.048414 -0.022002  1.000000   \n",
        "Today   0.030095 -0.026155 -0.010250 -0.002448 -0.006900 -0.034860  0.014592   \n",
        "\n",
        "           Today  \n",
        "Year    0.030095  \n",
        "Lag1   -0.026155  \n",
        "Lag2   -0.010250  \n",
        "Lag3   -0.002448  \n",
        "Lag4   -0.006900  \n",
        "Lag5   -0.034860  \n",
        "Volume  0.014592  \n",
        "Today   1.000000  \n",
        "\n",
        "[8 rows x 8 columns]"
       ]
      }
     ],
     "prompt_number": 12
    },
    {
     "cell_type": "code",
     "collapsed": false,
     "input": [
      "sns.corrplot(df)"
     ],
     "language": "python",
     "metadata": {},
     "outputs": [
      {
       "metadata": {},
       "output_type": "pyout",
       "prompt_number": 13,
       "text": [
        "<matplotlib.axes.AxesSubplot at 0x107b86290>"
       ]
      },
      {
       "metadata": {},
       "output_type": "display_data",
       "png": "[encoded data removed]",
       "text": [
        "<matplotlib.figure.Figure at 0x107b50d50>"
       ]
      }
     ],
     "prompt_number": 13
    },
    {
     "cell_type": "code",
     "collapsed": false,
     "input": [
      "df.Volume.plot()"
     ],
     "language": "python",
     "metadata": {},
     "outputs": [
      {
       "metadata": {},
       "output_type": "pyout",
       "prompt_number": 14,
       "text": [
        "<matplotlib.axes.AxesSubplot at 0x107f8d510>"
       ]
      },
      {
       "metadata": {},
       "output_type": "display_data",
       "png": "[encoded data removed]",
       "text": [
        "<matplotlib.figure.Figure at 0x107b4bdd0>"
       ]
      }
     ],
     "prompt_number": 14
    },
    {
     "cell_type": "heading",
     "level": 1,
     "metadata": {},
     "source": [
      "Logistic Regression (statsmodels)"
     ]
    },
    {
     "cell_type": "code",
     "collapsed": false,
     "input": [
      "import statsmodels.api as sm"
     ],
     "language": "python",
     "metadata": {},
     "outputs": [],
     "prompt_number": 15
    },
    {
     "cell_type": "code",
     "collapsed": false,
     "input": [
      "df['Directiond'] = df.Direction.replace({\"Down\": 0, \"Up\": 1})"
     ],
     "language": "python",
     "metadata": {},
     "outputs": [],
     "prompt_number": 17
    },
    {
     "cell_type": "code",
     "collapsed": false,
     "input": [
      "formulad = (\"Directiond ~ Lag1 + Lag2 + Lag3 + \"\n",
      "            \"Lag4 + Lag5 + Volume\")\n",
      "\n",
      "mod = sm.Logit.from_formula(formulad, df)\n",
      "res = mod.fit()\n",
      "res.summary()"
     ],
     "language": "python",
     "metadata": {},
     "outputs": [
      {
       "output_type": "stream",
       "stream": "stdout",
       "text": [
        "Optimization terminated successfully.\n",
        "         Current function value: 0.691034\n",
        "         Iterations 4\n"
       ]
      },
      {
       "html": [
        "<table class=\"simpletable\">\n",
        "<caption>Logit Regression Results</caption>\n",
        "<tr>\n",
        "  <th>Dep. Variable:</th>    <td>Directiond</td>    <th>  No. Observations:  </th>  <td>  1250</td> \n",
        "</tr>\n",
        "<tr>\n",
        "  <th>Model:</th>               <td>Logit</td>      <th>  Df Residuals:      </th>  <td>  1243</td> \n",
        "</tr>\n",
        "<tr>\n",
        "  <th>Method:</th>               <td>MLE</td>       <th>  Df Model:          </th>  <td>     6</td> \n",
        "</tr>\n",
        "<tr>\n",
        "  <th>Date:</th>          <td>Thu, 20 Mar 2014</td> <th>  Pseudo R-squ.:     </th> <td>0.002074</td>\n",
        "</tr>\n",
        "<tr>\n",
        "  <th>Time:</th>              <td>10:23:57</td>     <th>  Log-Likelihood:    </th> <td> -863.79</td>\n",
        "</tr>\n",
        "<tr>\n",
        "  <th>converged:</th>           <td>True</td>       <th>  LL-Null:           </th> <td> -865.59</td>\n",
        "</tr>\n",
        "<tr>\n",
        "  <th> </th>                      <td> </td>        <th>  LLR p-value:       </th>  <td>0.7319</td> \n",
        "</tr>\n",
        "</table>\n",
        "<table class=\"simpletable\">\n",
        "<tr>\n",
        "      <td></td>         <th>coef</th>     <th>std err</th>      <th>z</th>      <th>P>|z|</th> <th>[95.0% Conf. Int.]</th> \n",
        "</tr>\n",
        "<tr>\n",
        "  <th>Intercept</th> <td>   -0.1260</td> <td>    0.241</td> <td>   -0.523</td> <td> 0.601</td> <td>   -0.598     0.346</td>\n",
        "</tr>\n",
        "<tr>\n",
        "  <th>Lag1</th>      <td>   -0.0731</td> <td>    0.050</td> <td>   -1.457</td> <td> 0.145</td> <td>   -0.171     0.025</td>\n",
        "</tr>\n",
        "<tr>\n",
        "  <th>Lag2</th>      <td>   -0.0423</td> <td>    0.050</td> <td>   -0.845</td> <td> 0.398</td> <td>   -0.140     0.056</td>\n",
        "</tr>\n",
        "<tr>\n",
        "  <th>Lag3</th>      <td>    0.0111</td> <td>    0.050</td> <td>    0.222</td> <td> 0.824</td> <td>   -0.087     0.109</td>\n",
        "</tr>\n",
        "<tr>\n",
        "  <th>Lag4</th>      <td>    0.0094</td> <td>    0.050</td> <td>    0.187</td> <td> 0.851</td> <td>   -0.089     0.107</td>\n",
        "</tr>\n",
        "<tr>\n",
        "  <th>Lag5</th>      <td>    0.0103</td> <td>    0.050</td> <td>    0.208</td> <td> 0.835</td> <td>   -0.087     0.107</td>\n",
        "</tr>\n",
        "<tr>\n",
        "  <th>Volume</th>    <td>    0.1354</td> <td>    0.158</td> <td>    0.855</td> <td> 0.392</td> <td>   -0.175     0.446</td>\n",
        "</tr>\n",
        "</table>"
       ],
       "metadata": {},
       "output_type": "pyout",
       "prompt_number": 18,
       "text": [
        "<class 'statsmodels.iolib.summary.Summary'>\n",
        "\"\"\"\n",
        "                           Logit Regression Results                           \n",
        "==============================================================================\n",
        "Dep. Variable:             Directiond   No. Observations:                 1250\n",
        "Model:                          Logit   Df Residuals:                     1243\n",
        "Method:                           MLE   Df Model:                            6\n",
        "Date:                Thu, 20 Mar 2014   Pseudo R-squ.:                0.002074\n",
        "Time:                        10:23:57   Log-Likelihood:                -863.79\n",
        "converged:                       True   LL-Null:                       -865.59\n",
        "                                        LLR p-value:                    0.7319\n",
        "==============================================================================\n",
        "                 coef    std err          z      P>|z|      [95.0% Conf. Int.]\n",
        "------------------------------------------------------------------------------\n",
        "Intercept     -0.1260      0.241     -0.523      0.601        -0.598     0.346\n",
        "Lag1          -0.0731      0.050     -1.457      0.145        -0.171     0.025\n",
        "Lag2          -0.0423      0.050     -0.845      0.398        -0.140     0.056\n",
        "Lag3           0.0111      0.050      0.222      0.824        -0.087     0.109\n",
        "Lag4           0.0094      0.050      0.187      0.851        -0.089     0.107\n",
        "Lag5           0.0103      0.050      0.208      0.835        -0.087     0.107\n",
        "Volume         0.1354      0.158      0.855      0.392        -0.175     0.446\n",
        "==============================================================================\n",
        "\"\"\""
       ]
      }
     ],
     "prompt_number": 18
    },
    {
     "cell_type": "code",
     "collapsed": false,
     "input": [
      "formula = (\"Direction ~ Lag1 + Lag2 + Lag3 + \"\n",
      "           \"Lag4 + Lag5 + Volume\")\n",
      "\n",
      "mod2 = sm.GLM.from_formula(formula, df, family=sm.families.Binomial())\n",
      "res2 = mod2.fit()\n",
      "res2.summary()"
     ],
     "language": "python",
     "metadata": {},
     "outputs": [
      {
       "html": [
        "<table class=\"simpletable\">\n",
        "<caption>Generalized Linear Model Regression Results</caption>\n",
        "<tr>\n",
        "  <th>Dep. Variable:</th>  <td>['Direction[Down]', 'Direction[Up]']</td> <th>  No. Observations:  </th>  <td>  1250</td> \n",
        "</tr>\n",
        "<tr>\n",
        "  <th>Model:</th>                           <td>GLM</td>                 <th>  Df Residuals:      </th>  <td>  1243</td> \n",
        "</tr>\n",
        "<tr>\n",
        "  <th>Model Family:</th>                 <td>Binomial</td>               <th>  Df Model:          </th>  <td>     6</td> \n",
        "</tr>\n",
        "<tr>\n",
        "  <th>Link Function:</th>                  <td>logit</td>                <th>  Scale:             </th>    <td>1.0</td>  \n",
        "</tr>\n",
        "<tr>\n",
        "  <th>Method:</th>                         <td>IRLS</td>                 <th>  Log-Likelihood:    </th> <td> -863.79</td>\n",
        "</tr>\n",
        "<tr>\n",
        "  <th>Date:</th>                     <td>Thu, 20 Mar 2014</td>           <th>  Deviance:          </th> <td>  1727.6</td>\n",
        "</tr>\n",
        "<tr>\n",
        "  <th>Time:</th>                         <td>10:23:57</td>               <th>  Pearson chi2:      </th> <td>1.25e+03</td>\n",
        "</tr>\n",
        "<tr>\n",
        "  <th>No. Iterations:</th>                   <td>5</td>                  <th>                     </th>     <td> </td>   \n",
        "</tr>\n",
        "</table>\n",
        "<table class=\"simpletable\">\n",
        "<tr>\n",
        "      <td></td>         <th>coef</th>     <th>std err</th>      <th>t</th>      <th>P>|t|</th> <th>[95.0% Conf. Int.]</th> \n",
        "</tr>\n",
        "<tr>\n",
        "  <th>Intercept</th> <td>    0.1260</td> <td>    0.241</td> <td>    0.523</td> <td> 0.601</td> <td>   -0.346     0.598</td>\n",
        "</tr>\n",
        "<tr>\n",
        "  <th>Lag1</th>      <td>    0.0731</td> <td>    0.050</td> <td>    1.457</td> <td> 0.145</td> <td>   -0.025     0.171</td>\n",
        "</tr>\n",
        "<tr>\n",
        "  <th>Lag2</th>      <td>    0.0423</td> <td>    0.050</td> <td>    0.845</td> <td> 0.398</td> <td>   -0.056     0.140</td>\n",
        "</tr>\n",
        "<tr>\n",
        "  <th>Lag3</th>      <td>   -0.0111</td> <td>    0.050</td> <td>   -0.222</td> <td> 0.824</td> <td>   -0.109     0.087</td>\n",
        "</tr>\n",
        "<tr>\n",
        "  <th>Lag4</th>      <td>   -0.0094</td> <td>    0.050</td> <td>   -0.187</td> <td> 0.851</td> <td>   -0.107     0.089</td>\n",
        "</tr>\n",
        "<tr>\n",
        "  <th>Lag5</th>      <td>   -0.0103</td> <td>    0.050</td> <td>   -0.208</td> <td> 0.835</td> <td>   -0.107     0.087</td>\n",
        "</tr>\n",
        "<tr>\n",
        "  <th>Volume</th>    <td>   -0.1354</td> <td>    0.158</td> <td>   -0.855</td> <td> 0.392</td> <td>   -0.446     0.175</td>\n",
        "</tr>\n",
        "</table>"
       ],
       "metadata": {},
       "output_type": "pyout",
       "prompt_number": 19,
       "text": [
        "<class 'statsmodels.iolib.summary.Summary'>\n",
        "\"\"\"\n",
        "                          Generalized Linear Model Regression Results                           \n",
        "================================================================================================\n",
        "Dep. Variable:     ['Direction[Down]', 'Direction[Up]']   No. Observations:                 1250\n",
        "Model:                                              GLM   Df Residuals:                     1243\n",
        "Model Family:                                  Binomial   Df Model:                            6\n",
        "Link Function:                                    logit   Scale:                             1.0\n",
        "Method:                                            IRLS   Log-Likelihood:                -863.79\n",
        "Date:                                  Thu, 20 Mar 2014   Deviance:                       1727.6\n",
        "Time:                                          10:23:57   Pearson chi2:                 1.25e+03\n",
        "No. Iterations:                                       5                                         \n",
        "==============================================================================\n",
        "                 coef    std err          t      P>|t|      [95.0% Conf. Int.]\n",
        "------------------------------------------------------------------------------\n",
        "Intercept      0.1260      0.241      0.523      0.601        -0.346     0.598\n",
        "Lag1           0.0731      0.050      1.457      0.145        -0.025     0.171\n",
        "Lag2           0.0423      0.050      0.845      0.398        -0.056     0.140\n",
        "Lag3          -0.0111      0.050     -0.222      0.824        -0.109     0.087\n",
        "Lag4          -0.0094      0.050     -0.187      0.851        -0.107     0.089\n",
        "Lag5          -0.0103      0.050     -0.208      0.835        -0.107     0.087\n",
        "Volume        -0.1354      0.158     -0.855      0.392        -0.446     0.175\n",
        "==============================================================================\n",
        "\"\"\""
       ]
      }
     ],
     "prompt_number": 19
    },
    {
     "cell_type": "markdown",
     "metadata": {},
     "source": [
      "Same (up to a sign change)"
     ]
    },
    {
     "cell_type": "code",
     "collapsed": false,
     "input": [
      "def ln_odds_to_prob(x):\n",
      "    odds = np.exp(x)\n",
      "    prob = odds / (1 + odds)\n",
      "    return pd.Series(prob)\n",
      "\n",
      "def classify(x, low_class, high_class):\n",
      "    b = x <= .5\n",
      "    return b.map({True: low_class, False: high_class})"
     ],
     "language": "python",
     "metadata": {},
     "outputs": [],
     "prompt_number": 20
    },
    {
     "cell_type": "code",
     "collapsed": false,
     "input": [
      "probs = ln_odds_to_prob(res.fittedvalues)\n",
      "groups = classify(probs, \"Down\", \"Up\")\n",
      "groups.head()"
     ],
     "language": "python",
     "metadata": {},
     "outputs": [
      {
       "metadata": {},
       "output_type": "pyout",
       "prompt_number": 21,
       "text": [
        "1      Up\n",
        "2    Down\n",
        "3    Down\n",
        "4      Up\n",
        "5      Up\n",
        "dtype: object"
       ]
      }
     ],
     "prompt_number": 21
    },
    {
     "cell_type": "code",
     "collapsed": false,
     "input": [
      "def confusion_table(predicted, actual):\n",
      "    \"\"\"\n",
      "    A 2 x 2 table \n",
      "    \n",
      "        correct1  | incorrect\n",
      "        incorrect | correct2\n",
      "    \"\"\"\n",
      "    labels = pd.concat([predicted, actual]).unique()\n",
      "    correct = predicted == actual\n",
      "    diag = predicted[correct].value_counts()\n",
      "    labels = diag.index\n",
      "    diag = np.diag(diag)\n",
      "    off = np.fliplr(np.diag(predicted[~correct].value_counts()))\n",
      "    t = pd.DataFrame(diag + off, index=labels, columns=labels)\n",
      "    return t"
     ],
     "language": "python",
     "metadata": {},
     "outputs": [],
     "prompt_number": 22
    },
    {
     "cell_type": "code",
     "collapsed": false,
     "input": [
      "confusion_table(groups, df.Direction)"
     ],
     "language": "python",
     "metadata": {},
     "outputs": [
      {
       "html": [
        "<div style=\"max-height:1000px;max-width:1500px;overflow:auto;\">\n",
        "<table border=\"1\" class=\"dataframe\">\n",
        "  <thead>\n",
        "    <tr style=\"text-align: right;\">\n",
        "      <th></th>\n",
        "      <th>Up</th>\n",
        "      <th>Down</th>\n",
        "    </tr>\n",
        "  </thead>\n",
        "  <tbody>\n",
        "    <tr>\n",
        "      <th>Up</th>\n",
        "      <td> 507</td>\n",
        "      <td> 457</td>\n",
        "    </tr>\n",
        "    <tr>\n",
        "      <th>Down</th>\n",
        "      <td> 141</td>\n",
        "      <td> 145</td>\n",
        "    </tr>\n",
        "  </tbody>\n",
        "</table>\n",
        "<p>2 rows \u00d7 2 columns</p>\n",
        "</div>"
       ],
       "metadata": {},
       "output_type": "pyout",
       "prompt_number": 23,
       "text": [
        "       Up  Down\n",
        "Up    507   457\n",
        "Down  141   145\n",
        "\n",
        "[2 rows x 2 columns]"
       ]
      }
     ],
     "prompt_number": 23
    },
    {
     "cell_type": "code",
     "collapsed": false,
     "input": [
      "# split train, test at 2005\n",
      "train = df.query(\"Year < 2005\")\n",
      "test = df.query(\"Year >= 2005\")"
     ],
     "language": "python",
     "metadata": {},
     "outputs": [],
     "prompt_number": 24
    },
    {
     "cell_type": "code",
     "collapsed": false,
     "input": [
      "probs"
     ],
     "language": "python",
     "metadata": {},
     "outputs": [
      {
       "metadata": {},
       "output_type": "pyout",
       "prompt_number": 25,
       "text": [
        "1     0.507084\n",
        "2     0.481468\n",
        "3     0.481139\n",
        "4     0.515222\n",
        "5     0.510781\n",
        "6     0.506956\n",
        "7     0.492651\n",
        "8     0.509229\n",
        "9     0.517614\n",
        "10    0.488838\n",
        "11    0.496521\n",
        "12    0.519783\n",
        "13    0.518303\n",
        "14    0.496385\n",
        "15    0.486489\n",
        "...\n",
        "1236    0.549507\n",
        "1237    0.527141\n",
        "1238    0.526329\n",
        "1239    0.537530\n",
        "1240    0.528170\n",
        "1241    0.542834\n",
        "1242    0.565005\n",
        "1243    0.558722\n",
        "1244    0.542580\n",
        "1245    0.531387\n",
        "1246    0.519892\n",
        "1247    0.505926\n",
        "1248    0.539268\n",
        "1249    0.526118\n",
        "1250    0.517917\n",
        "Length: 1250, dtype: float64"
       ]
      }
     ],
     "prompt_number": 25
    },
    {
     "cell_type": "code",
     "collapsed": false,
     "input": [
      "def error_rate(ct):\n",
      "    \"\"\"\n",
      "    Error rate from a confusion table.\n",
      "    \"\"\"\n",
      "    return 1 - np.diag(t).sum() / t.values.sum()"
     ],
     "language": "python",
     "metadata": {},
     "outputs": [],
     "prompt_number": 33
    },
    {
     "cell_type": "code",
     "collapsed": false,
     "input": [
      "mod = sm.Logit.from_formula(formulad, train)\n",
      "res = mod.fit()\n",
      "probs = pd.Series(res.predict(test))\n",
      "\n",
      "t = confusion_table(classify(probs, 'Down', 'Up'), test.Direction)\n",
      "display.display(t)\n",
      "\n",
      "print(\"Error Rate: {}\".format(error_rate(t)))"
     ],
     "language": "python",
     "metadata": {},
     "outputs": [
      {
       "output_type": "stream",
       "stream": "stdout",
       "text": [
        "Optimization terminated successfully.\n",
        "         Current function value: 0.691936\n",
        "         Iterations 4\n"
       ]
      },
      {
       "html": [
        "<div style=\"max-height:1000px;max-width:1500px;overflow:auto;\">\n",
        "<table border=\"1\" class=\"dataframe\">\n",
        "  <thead>\n",
        "    <tr style=\"text-align: right;\">\n",
        "      <th></th>\n",
        "      <th>Down</th>\n",
        "      <th>Up</th>\n",
        "    </tr>\n",
        "  </thead>\n",
        "  <tbody>\n",
        "    <tr>\n",
        "      <th>Down</th>\n",
        "      <td> 77</td>\n",
        "      <td> 97</td>\n",
        "    </tr>\n",
        "    <tr>\n",
        "      <th>Up</th>\n",
        "      <td> 34</td>\n",
        "      <td> 44</td>\n",
        "    </tr>\n",
        "  </tbody>\n",
        "</table>\n",
        "<p>2 rows \u00d7 2 columns</p>\n",
        "</div>"
       ],
       "metadata": {},
       "output_type": "display_data",
       "text": [
        "      Down  Up\n",
        "Down    77  97\n",
        "Up      34  44\n",
        "\n",
        "[2 rows x 2 columns]"
       ]
      },
      {
       "output_type": "stream",
       "stream": "stdout",
       "text": [
        "Error Rate: 0.519841269841\n"
       ]
      }
     ],
     "prompt_number": 34
    },
    {
     "cell_type": "code",
     "collapsed": false,
     "input": [
      "mod = sm.Logit.from_formula(\"Directiond ~ Lag1 + Lag2\", train)\n",
      "res = mod.fit()\n",
      "\n",
      "probs = pd.Series(res.predict(test))\n",
      "t = confusion_table(classify(probs, 'Down', 'Up'), test.Direction)\n",
      "display.display(t)\n",
      "print(\"Error Rate: {}\".format(error_rate(t)))"
     ],
     "language": "python",
     "metadata": {},
     "outputs": [
      {
       "output_type": "stream",
       "stream": "stdout",
       "text": [
        "Optimization terminated successfully.\n",
        "         Current function value: 0.692085\n",
        "         Iterations 3\n"
       ]
      },
      {
       "html": [
        "<div style=\"max-height:1000px;max-width:1500px;overflow:auto;\">\n",
        "<table border=\"1\" class=\"dataframe\">\n",
        "  <thead>\n",
        "    <tr style=\"text-align: right;\">\n",
        "      <th></th>\n",
        "      <th>Up</th>\n",
        "      <th>Down</th>\n",
        "    </tr>\n",
        "  </thead>\n",
        "  <tbody>\n",
        "    <tr>\n",
        "      <th>Up</th>\n",
        "      <td> 106</td>\n",
        "      <td> 76</td>\n",
        "    </tr>\n",
        "    <tr>\n",
        "      <th>Down</th>\n",
        "      <td>  35</td>\n",
        "      <td> 35</td>\n",
        "    </tr>\n",
        "  </tbody>\n",
        "</table>\n",
        "<p>2 rows \u00d7 2 columns</p>\n",
        "</div>"
       ],
       "metadata": {},
       "output_type": "display_data",
       "text": [
        "       Up  Down\n",
        "Up    106    76\n",
        "Down   35    35\n",
        "\n",
        "[2 rows x 2 columns]"
       ]
      },
      {
       "output_type": "stream",
       "stream": "stdout",
       "text": [
        "Error Rate: 0.440476190476\n"
       ]
      }
     ],
     "prompt_number": 35
    },
    {
     "cell_type": "heading",
     "level": 1,
     "metadata": {},
     "source": [
      "Scikit-Learn"
     ]
    },
    {
     "cell_type": "code",
     "collapsed": false,
     "input": [
      "from sklearn import lda"
     ],
     "language": "python",
     "metadata": {},
     "outputs": [],
     "prompt_number": 37
    },
    {
     "cell_type": "code",
     "collapsed": false,
     "input": [
      "y = df.Directiond.values\n",
      "X = df[['Lag1', 'Lag2']].values\n",
      "\n",
      "train_idx = train.index\n",
      "test_idx = test.index\n",
      "\n",
      "clf = lda.LDA()\n",
      "clf.fit(X[train_idx], y[train_idx])"
     ],
     "language": "python",
     "metadata": {},
     "outputs": [
      {
       "metadata": {},
       "output_type": "pyout",
       "prompt_number": 49,
       "text": [
        "array([[-0.04384086],\n",
        "       [ 0.04262787]])"
       ]
      }
     ],
     "prompt_number": 49
    },
    {
     "cell_type": "code",
     "collapsed": false,
     "input": [],
     "language": "python",
     "metadata": {},
     "outputs": [
      {
       "metadata": {},
       "output_type": "pyout",
       "prompt_number": 43,
       "text": [
        "Int64Index([1, 2, 3, 4, 5, 6, 7, 8, 9, 10, 11, 12, 13, 14, 15, 16, 17, 18, 19, 20, 21, 22, 23, 24, 25, 26, 27, 28, 29, 30, 31, 32, 33, 34, 35, 36, 37, 38, 39, 40, 41, 42, 43, 44, 45, 46, 47, 48, 49, 50, 51, 52, 53, 54, 55, 56, 57, 58, 59, 60, 61, 62, 63, 64, 65, 66, 67, 68, 69, 70, 71, 72, 73, 74, 75, 76, 77, 78, 79, 80, 81, 82, 83, 84, 85, 86, 87, 88, 89, 90, 91, 92, 93, 94, 95, 96, 97, 98, 99, 100, ...], dtype='int64')"
       ]
      }
     ],
     "prompt_number": 43
    }
   ],
   "metadata": {}
  }
 ]
}