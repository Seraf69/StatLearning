{
 "metadata": {
  "name": "",
  "signature": "sha256:9254b6f0c440ab83ccd12dcc7414a1c44f1fbb8bca35dc8cda7ae4786ad56f98"
 },
 "nbformat": 3,
 "nbformat_minor": 0,
 "worksheets": [
  {
   "cells": [
    {
     "cell_type": "code",
     "collapsed": false,
     "input": [
      "%load_ext rmagic \n",
      "\n",
      "import numpy as np\n",
      "import pandas as pd\n",
      "import statsmodels.api as sm\n"
     ],
     "language": "python",
     "metadata": {},
     "outputs": [],
     "prompt_number": 1
    },
    {
     "cell_type": "code",
     "collapsed": false,
     "input": [
      "np.random.seed(1)"
     ],
     "language": "python",
     "metadata": {},
     "outputs": [],
     "prompt_number": 2
    },
    {
     "cell_type": "code",
     "collapsed": false,
     "input": [
      "%%R\n",
      "# Need the data from ISLR library\n",
      "# install.packages(\"ISLR\")\n",
      "library(\"ISLR\")\n",
      "write.csv(Auto, \"../data/auto.csv\")"
     ],
     "language": "python",
     "metadata": {},
     "outputs": [
      {
       "metadata": {},
       "output_type": "display_data",
       "text": [
        "trying URL 'http://streaming.stat.iastate.edu/CRAN/src/contrib/ISLR_1.0.tar.gz'\n",
        "Content type 'application/x-gzip' length 1748675 bytes (1.7 Mb)\n",
        "opened URL\n",
        "==================================================\n",
        "downloaded 1.7 Mb\n",
        "\n",
        "\n",
        "The downloaded source packages are in\n",
        "\t\u2018/private/var/folders/57/vk109t3x0xd2b06k_yg5bbjr0000gp/T/RtmpNU4ebG/downloaded_packages\u2019\n"
       ]
      }
     ],
     "prompt_number": 11
    },
    {
     "cell_type": "code",
     "collapsed": false,
     "input": [
      "from sklearn.cross_validation import ShuffleSplit, Bootstrap, train_test_split"
     ],
     "language": "python",
     "metadata": {},
     "outputs": [],
     "prompt_number": 20
    },
    {
     "cell_type": "code",
     "collapsed": false,
     "input": [
      "df = pd.read_csv('../data/auto.csv', index_col=0)\n",
      "df.info()"
     ],
     "language": "python",
     "metadata": {},
     "outputs": [
      {
       "output_type": "stream",
       "stream": "stdout",
       "text": [
        "<class 'pandas.core.frame.DataFrame'>\n",
        "Int64Index: 392 entries, 1 to 397\n",
        "Data columns (total 9 columns):\n",
        "mpg             392 non-null float64\n",
        "cylinders       392 non-null int64\n",
        "displacement    392 non-null float64\n",
        "horsepower      392 non-null int64\n",
        "weight          392 non-null int64\n",
        "acceleration    392 non-null float64\n",
        "year            392 non-null int64\n",
        "origin          392 non-null int64\n",
        "name            392 non-null object\n",
        "dtypes: float64(3), int64(5), object(1)"
       ]
      }
     ],
     "prompt_number": 22
    },
    {
     "cell_type": "code",
     "collapsed": false,
     "input": [
      "train_idx, test_idx = train_test_split(df.index, train_size=196)"
     ],
     "language": "python",
     "metadata": {},
     "outputs": [],
     "prompt_number": 31
    },
    {
     "cell_type": "code",
     "collapsed": false,
     "input": [
      "def test_mse(res, df, test_idx):\n",
      "    return np.mean(((df.mpg - res.predict(df))**2).loc[test_idx])"
     ],
     "language": "python",
     "metadata": {},
     "outputs": [],
     "prompt_number": 44
    },
    {
     "cell_type": "code",
     "collapsed": false,
     "input": [
      "lm = sm.OLS.from_formula(\"mpg ~ horsepower\", data=df, subset=train_idx)\n",
      "res = lm.fit()\n",
      "\n",
      "test_mse0 = test_mse(res, df, test_idx)\n",
      "print(\"The test Mean Squared Error is {0:.2f}\".format(test_mse0))"
     ],
     "language": "python",
     "metadata": {},
     "outputs": [
      {
       "output_type": "stream",
       "stream": "stdout",
       "text": [
        "The test Mean Squared Error is 26.33\n"
       ]
      }
     ],
     "prompt_number": 50
    },
    {
     "cell_type": "code",
     "collapsed": false,
     "input": [
      "# p191\n",
      "df['horsepower2'] = df.horsepower ** 2\n",
      "lm = sm.OLS.from_formula(\"mpg ~ horsepower + horsepower2\", data=df,\n",
      "                         subset=train_idx)\n",
      "res = lm.fit()\n",
      "\n",
      "test_mse1 = test_mse(res, df, test_idx)\n",
      "print(\"(Quadratic): The test Mean Squared Error is {0:.2f}\".format(test_mse1))\n",
      "\n",
      "\n",
      "df['horsepower3'] = df.horsepower ** 3\n",
      "lm = sm.OLS.from_formula(\"mpg ~ horsepower + horsepower2 + horsepower3\",\n",
      "                         data=df, subset=train_idx)\n",
      "res = lm.fit()\n",
      "\n",
      "test_mse2 = test_mse(res, df, test_idx)\n",
      "print(\"(Cubic)    : The test Mean Squared Error is {0:.2f}\".format(test_mse2))\n"
     ],
     "language": "python",
     "metadata": {},
     "outputs": [
      {
       "output_type": "stream",
       "stream": "stdout",
       "text": [
        "(Quadratic): The test Mean Squared Error is 21.46\n",
        "(Cubic)    : The test Mean Squared Error is 21.46\n"
       ]
      }
     ],
     "prompt_number": 61
    },
    {
     "cell_type": "code",
     "collapsed": false,
     "input": [
      "# Leave one out CV\n",
      "from sklearn.cross_validation import LeaveOneLabelOut, LeaveOneOut"
     ],
     "language": "python",
     "metadata": {},
     "outputs": [],
     "prompt_number": 62
    },
    {
     "cell_type": "code",
     "collapsed": false,
     "input": [
      "# Polynomial (2nd and 3rd degrees)\n",
      "\n",
      "def leave_one_out(formula, data):\n",
      "    # TODO: generalize past OLS\n",
      "    loo = LeaveOneOut(len(data))\n",
      "    y = formula.split('~')[0].strip()\n",
      "    errs = np.empty(len(data))\n",
      "\n",
      "    for train_iloc, test_iloc in loo:\n",
      "        \n",
      "        mod = sm.OLS.from_formula(formula, data=data, subset=df.index[train_iloc])\n",
      "        res = mod.fit()\n",
      "        e = df.iloc[test_iloc][y] - res.predict(df.iloc[test_iloc])\n",
      "        errs[test_iloc] = e ** 2\n",
      "    return np.mean(errs)\n",
      "\n",
      "formula = 'mpg ~ horsepower'\n",
      "\n",
      "leave_one_out(formula, df)"
     ],
     "language": "python",
     "metadata": {},
     "outputs": [
      {
       "metadata": {},
       "output_type": "pyout",
       "prompt_number": 88,
       "text": [
        "24.231513517929212"
       ]
      }
     ],
     "prompt_number": 88
    },
    {
     "cell_type": "code",
     "collapsed": false,
     "input": [
      "# Iterate over several polynomials\n",
      "\n",
      "mses = []\n",
      "\n",
      "for i in range(1, 6):\n",
      "    df['horsepower{}'.format(i)] = df.horsepower ** i\n",
      "    formula = 'mpg ~ {}'.format(' + '.join(['horsepower' + str(x) for x in range(1, i + 1)]))\n",
      "    \n",
      "    mses.append((i, leave_one_out(formula, df)))\n",
      "\n",
      "mses"
     ],
     "language": "python",
     "metadata": {},
     "outputs": [
      {
       "metadata": {},
       "output_type": "pyout",
       "prompt_number": 87,
       "text": [
        "[(1, 24.231513517929212),\n",
        " (2, 19.248213124489912),\n",
        " (3, 19.33498406420637),\n",
        " (4, 19.424430343983968),\n",
        " (5, 19.033211460019771)]"
       ]
      }
     ],
     "prompt_number": 87
    },
    {
     "cell_type": "code",
     "collapsed": false,
     "input": [
      "# k-fold CV\n",
      "\n",
      "from sklearn.cross_validation import KFold"
     ],
     "language": "python",
     "metadata": {},
     "outputs": [],
     "prompt_number": 90
    },
    {
     "cell_type": "code",
     "collapsed": false,
     "input": [
      "# need to test this\n",
      "\n",
      "def kfOLS(formula, data, n_folds=10):\n",
      "    \n",
      "    kf = KFold(n=len(data), n_folds=n_folds)\n",
      "    y = formula.split('~')[0].strip()\n",
      "    \n",
      "    errs = np.empty(n_folds)\n",
      "\n",
      "    for i, (train_iloc, test_iloc) in enumerate(kf):\n",
      "        train_idx, test_idx = df.index[train_iloc], df.index[test_iloc]\n",
      "\n",
      "        mod = sm.OLS.from_formula(formula, data, subset=train_idx)\n",
      "        res = mod.fit()\n",
      "        e = (data[y] - res.predict(data)).loc[test_idx]\n",
      "        errs[i] = np.mean(e ** 2)  # is this the right thing to report?\n",
      "    \n",
      "    return np.mean(errs)  # giving a mean of means..."
     ],
     "language": "python",
     "metadata": {},
     "outputs": [],
     "prompt_number": 105
    },
    {
     "cell_type": "code",
     "collapsed": false,
     "input": [
      "mses = []\n",
      "\n",
      "for i in range(1, 11):\n",
      "    df['horsepower{}'.format(i)] = df.horsepower ** i\n",
      "    formula = 'mpg ~ {}'.format(' + '.join(['horsepower' + str(x) for x in range(1, i + 1)]))\n",
      "    \n",
      "    mses.append((i, kfOLS(formula, df)))\n",
      "\n",
      "mses"
     ],
     "language": "python",
     "metadata": {},
     "outputs": [
      {
       "metadata": {},
       "output_type": "pyout",
       "prompt_number": 103,
       "text": [
        "[(1, 27.439933652339874),\n",
        " (2, 21.2358400558055),\n",
        " (3, 21.336606183181594),\n",
        " (4, 21.353886934811431),\n",
        " (5, 20.905661561342065),\n",
        " (6, 20.908357869565101),\n",
        " (7, 20.956908855107223),\n",
        " (8, 25.659550283741929),\n",
        " (9, 76.550828165878471),\n",
        " (10, 61.352329514990615)]"
       ]
      }
     ],
     "prompt_number": 103
    },
    {
     "cell_type": "code",
     "collapsed": false,
     "input": [],
     "language": "python",
     "metadata": {},
     "outputs": []
    }
   ],
   "metadata": {}
  }
 ]
}