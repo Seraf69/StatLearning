{
 "metadata": {
  "name": "",
  "signature": "sha256:22cbff0a8958b466e0eadd9619aa8bc7e8777beafa07f66b81f331640df2bd2f"
 },
 "nbformat": 3,
 "nbformat_minor": 0,
 "worksheets": [
  {
   "cells": [
    {
     "cell_type": "code",
     "collapsed": false,
     "input": [
      "%matplotlib inline\n",
      "\n",
      "from __future__ import division, print_function\n",
      "\n",
      "import pandas as pd\n",
      "import statsmodels.api as sm"
     ],
     "language": "python",
     "metadata": {},
     "outputs": [],
     "prompt_number": 1
    },
    {
     "cell_type": "code",
     "collapsed": false,
     "input": [
      "df = pd.read_csv('xy.csv', index_col=0)"
     ],
     "language": "python",
     "metadata": {},
     "outputs": [],
     "prompt_number": 2
    },
    {
     "cell_type": "code",
     "collapsed": false,
     "input": [
      "mod = sm.OLS.from_formula(\"y ~ X1 + X2\", df)\n",
      "res = mod.fit()"
     ],
     "language": "python",
     "metadata": {},
     "outputs": [],
     "prompt_number": 3
    },
    {
     "cell_type": "code",
     "collapsed": false,
     "input": [
      "res.summary()"
     ],
     "language": "python",
     "metadata": {},
     "outputs": [
      {
       "html": [
        "<table class=\"simpletable\">\n",
        "<caption>OLS Regression Results</caption>\n",
        "<tr>\n",
        "  <th>Dep. Variable:</th>            <td>y</td>        <th>  R-squared:         </th> <td>   0.117</td>\n",
        "</tr>\n",
        "<tr>\n",
        "  <th>Model:</th>                   <td>OLS</td>       <th>  Adj. R-squared:    </th> <td>   0.115</td>\n",
        "</tr>\n",
        "<tr>\n",
        "  <th>Method:</th>             <td>Least Squares</td>  <th>  F-statistic:       </th> <td>   66.14</td>\n",
        "</tr>\n",
        "<tr>\n",
        "  <th>Date:</th>             <td>Thu, 20 Feb 2014</td> <th>  Prob (F-statistic):</th> <td>1.06e-27</td>\n",
        "</tr>\n",
        "<tr>\n",
        "  <th>Time:</th>                 <td>12:51:23</td>     <th>  Log-Likelihood:    </th> <td> -810.66</td>\n",
        "</tr>\n",
        "<tr>\n",
        "  <th>No. Observations:</th>      <td>  1000</td>      <th>  AIC:               </th> <td>   1627.</td>\n",
        "</tr>\n",
        "<tr>\n",
        "  <th>Df Residuals:</th>          <td>   997</td>      <th>  BIC:               </th> <td>   1642.</td>\n",
        "</tr>\n",
        "<tr>\n",
        "  <th>Df Model:</th>              <td>     2</td>      <th>                     </th>     <td> </td>   \n",
        "</tr>\n",
        "</table>\n",
        "<table class=\"simpletable\">\n",
        "<tr>\n",
        "      <td></td>         <th>coef</th>     <th>std err</th>      <th>t</th>      <th>P>|t|</th> <th>[95.0% Conf. Int.]</th> \n",
        "</tr>\n",
        "<tr>\n",
        "  <th>Intercept</th> <td>    0.2658</td> <td>    0.020</td> <td>   13.372</td> <td> 0.000</td> <td>    0.227     0.305</td>\n",
        "</tr>\n",
        "<tr>\n",
        "  <th>X1</th>        <td>    0.1453</td> <td>    0.026</td> <td>    5.604</td> <td> 0.000</td> <td>    0.094     0.196</td>\n",
        "</tr>\n",
        "<tr>\n",
        "  <th>X2</th>        <td>    0.3134</td> <td>    0.029</td> <td>   10.722</td> <td> 0.000</td> <td>    0.256     0.371</td>\n",
        "</tr>\n",
        "</table>\n",
        "<table class=\"simpletable\">\n",
        "<tr>\n",
        "  <th>Omnibus:</th>       <td> 9.703</td> <th>  Durbin-Watson:     </th> <td>   0.002</td>\n",
        "</tr>\n",
        "<tr>\n",
        "  <th>Prob(Omnibus):</th> <td> 0.008</td> <th>  Jarque-Bera (JB):  </th> <td>  13.694</td>\n",
        "</tr>\n",
        "<tr>\n",
        "  <th>Skew:</th>          <td>-0.065</td> <th>  Prob(JB):          </th> <td> 0.00106</td>\n",
        "</tr>\n",
        "<tr>\n",
        "  <th>Kurtosis:</th>      <td> 3.558</td> <th>  Cond. No.          </th> <td>    2.01</td>\n",
        "</tr>\n",
        "</table>"
       ],
       "metadata": {},
       "output_type": "pyout",
       "prompt_number": 4,
       "text": [
        "<class 'statsmodels.iolib.summary.Summary'>\n",
        "\"\"\"\n",
        "                            OLS Regression Results                            \n",
        "==============================================================================\n",
        "Dep. Variable:                      y   R-squared:                       0.117\n",
        "Model:                            OLS   Adj. R-squared:                  0.115\n",
        "Method:                 Least Squares   F-statistic:                     66.14\n",
        "Date:                Thu, 20 Feb 2014   Prob (F-statistic):           1.06e-27\n",
        "Time:                        12:51:23   Log-Likelihood:                -810.66\n",
        "No. Observations:                1000   AIC:                             1627.\n",
        "Df Residuals:                     997   BIC:                             1642.\n",
        "Df Model:                           2                                         \n",
        "==============================================================================\n",
        "                 coef    std err          t      P>|t|      [95.0% Conf. Int.]\n",
        "------------------------------------------------------------------------------\n",
        "Intercept      0.2658      0.020     13.372      0.000         0.227     0.305\n",
        "X1             0.1453      0.026      5.604      0.000         0.094     0.196\n",
        "X2             0.3134      0.029     10.722      0.000         0.256     0.371\n",
        "==============================================================================\n",
        "Omnibus:                        9.703   Durbin-Watson:                   0.002\n",
        "Prob(Omnibus):                  0.008   Jarque-Bera (JB):               13.694\n",
        "Skew:                          -0.065   Prob(JB):                      0.00106\n",
        "Kurtosis:                       3.558   Cond. No.                         2.01\n",
        "==============================================================================\n",
        "\"\"\""
       ]
      }
     ],
     "prompt_number": 4
    },
    {
     "cell_type": "code",
     "collapsed": false,
     "input": [
      "df.plot()"
     ],
     "language": "python",
     "metadata": {},
     "outputs": [
      {
       "metadata": {},
       "output_type": "pyout",
       "prompt_number": 5,
       "text": [
        "<matplotlib.axes.AxesSubplot at 0x112d30b10>"
       ]
      },
      {
       "metadata": {},
       "output_type": "display_data",
       "png": "[encoded data removed]",
       "text": [
        "<matplotlib.figure.Figure at 0x112d30690>"
       ]
      }
     ],
     "prompt_number": 5
    },
    {
     "cell_type": "code",
     "collapsed": false,
     "input": [
      "modg = sm.GLM.from_formula(\"y ~ X1 + X2\", df)\n",
      "resg = modg.fit()"
     ],
     "language": "python",
     "metadata": {},
     "outputs": [],
     "prompt_number": 10
    },
    {
     "cell_type": "code",
     "collapsed": false,
     "input": [
      "def draw_points(df, n=None):\n",
      "    rng = np.arange(0, len(df.index) + 1)\n",
      "    if n is None:\n",
      "        n = len(df)\n",
      "    return np.random.choice(rng, size=n)"
     ],
     "language": "python",
     "metadata": {},
     "outputs": [],
     "prompt_number": 18
    },
    {
     "cell_type": "code",
     "collapsed": false,
     "input": [
      "draw_points(df)"
     ],
     "language": "python",
     "metadata": {},
     "outputs": [
      {
       "metadata": {},
       "output_type": "pyout",
       "prompt_number": 27,
       "text": [
        "array([699, 156, 303, 129, 692, 377, 112, 826, 930, 156, 733, 268,  55,\n",
        "       311, 443, 898, 465, 163, 738, 457, 207, 583, 902, 579,  20, 310,\n",
        "       243, 850, 362, 939,  34, 624, 317, 173, 671, 915, 325,  85, 917,\n",
        "       508, 843, 982, 537, 487, 557, 299, 544, 896, 133, 593, 893, 576,\n",
        "       614, 905, 405,  47, 121, 126, 280, 430, 330, 360, 547, 421, 745,\n",
        "       809, 529, 957, 225, 595, 207, 998,  45, 327, 871, 977, 538, 871,\n",
        "       823, 911, 449, 717, 506, 200, 993, 111, 527, 784, 377,   1, 777,\n",
        "        13, 982, 909, 753,  14, 131, 513,  66, 990,  54, 542, 411, 187,\n",
        "       439, 358, 793,   3, 362, 446, 906, 830, 828, 213, 928, 806, 303,\n",
        "       363, 976, 524, 844, 511, 671, 427, 490, 518, 405, 726, 598, 629,\n",
        "       405, 258, 152, 618, 357, 300, 441, 655, 268, 938, 799, 909, 108,\n",
        "       580, 853, 643, 482,  92, 168, 564, 669, 522, 452, 241, 322, 250,\n",
        "       967, 751, 338, 762, 106, 501, 993, 730, 661, 280, 712, 402, 486,\n",
        "       375, 723, 880, 682,  29, 648, 729, 687,  17, 163, 664, 345, 419,\n",
        "       982, 748, 674, 206, 427, 214, 187, 340, 127, 139, 742, 352, 200,\n",
        "       496, 876, 781, 605, 634, 929, 119, 401, 204, 324, 515, 248, 378,\n",
        "       503, 409, 626, 473, 704, 100, 577, 427, 589, 749, 639, 358, 363,\n",
        "       488, 181, 357, 386,  53, 924, 413, 984, 485, 918, 929, 685, 260,\n",
        "       845, 533, 863, 274, 992, 946, 893,   3, 899, 503, 188, 814, 727,\n",
        "       442, 259, 220, 945, 891, 344, 645, 302, 320, 966, 305, 574, 727,\n",
        "       606, 872, 332, 975, 352, 843, 628, 161, 710, 783, 232, 161, 303,\n",
        "       717, 944, 860, 418, 732,  41,  74,  64, 374, 719, 538, 862, 794,\n",
        "       933,  30, 781, 323,   9, 770, 500, 720, 226,  17,  85, 771, 473,\n",
        "       783, 885, 389, 735, 327, 548, 944, 555, 239, 292, 902, 910, 943,\n",
        "       537, 999, 408, 472, 113, 624, 446, 563, 158, 649, 890, 572, 166,\n",
        "       418, 765, 936, 980, 900, 640, 144, 892, 970, 516, 316, 526, 895,\n",
        "       137, 108,  33, 322, 689, 298, 291, 238, 480,  62, 268, 944, 998,\n",
        "       845, 149, 408, 828, 670, 653, 812, 105, 208, 184, 815, 474, 666,\n",
        "       239, 719, 606, 546, 696, 860, 769,  18, 876, 772, 724,  58, 613,\n",
        "        18, 840, 424, 347, 879, 433, 441, 460, 979, 245, 227, 959, 151,\n",
        "       188, 740, 981,  41, 214, 446, 132, 688, 497, 159, 795, 324, 384,\n",
        "        48, 127, 248, 462, 605, 600, 324, 911, 780,  37,  74, 979, 193,\n",
        "       572, 991, 929, 687, 118, 722, 123, 839, 373,  31, 510, 243,  26,\n",
        "        72, 336, 122, 513, 812, 987,  16, 219, 220, 280, 103, 430,  50,\n",
        "       125,  76,   2, 312, 116, 518, 109, 851, 124,  77, 310, 309, 451,\n",
        "       694,  31, 984, 194, 849, 316, 692, 455, 531,  28, 899, 795, 836,\n",
        "       306, 939, 221, 836, 914, 979, 371, 784, 220, 674, 292, 841, 569,\n",
        "       445, 911, 389, 971, 389, 399, 256, 168,  10, 796, 343, 675, 818,\n",
        "       939, 750, 895, 862, 879, 681, 584, 243, 334, 903, 630, 237, 308,\n",
        "       709, 765, 404, 968, 743, 656, 650, 824, 362,  43, 335, 728, 931,\n",
        "        45, 138,  34, 106,  72, 802, 830, 622, 238, 963, 907, 911,  11,\n",
        "         0, 990, 667,  29, 271, 140, 799, 417, 858, 794, 759, 634, 892,\n",
        "       720,   7, 158, 177,  65, 183, 775, 670,  30, 557, 915, 412, 109,\n",
        "        88, 559, 259, 642, 877, 659, 599,  87, 293, 411,  86,  76, 137,\n",
        "       528, 645, 198,  39, 970, 329, 895, 202, 997,  96,  72, 340, 538,\n",
        "       426, 468, 135, 422, 603, 394, 851, 128, 459, 428, 567, 678, 462,\n",
        "       590, 749,  99, 952, 791, 650, 717, 533, 397,  60, 250, 105, 314,\n",
        "       962, 336, 959, 166, 809,   6,  59, 190, 938, 579, 768, 412, 482,\n",
        "       481, 338, 999, 181, 363, 395, 619, 561, 390, 954, 302, 604, 494,\n",
        "       439, 417, 780, 429, 156,  29, 704, 560, 100, 977, 860, 320, 716,\n",
        "       806, 555, 156, 391, 240, 127, 889, 708, 336, 832, 443, 945, 709,\n",
        "       214, 497, 855, 915, 839, 198, 223, 958, 932, 698, 773, 931, 103,\n",
        "       152, 256, 753, 208, 892, 539, 571, 857, 915, 419,  32, 769,  85,\n",
        "       525,  77, 354, 895, 625, 530, 162, 343, 818, 944,  37, 515, 738,\n",
        "       257, 726, 187, 785, 543, 212, 892, 842, 226, 145, 531, 884, 943,\n",
        "       291, 552, 390, 460, 924, 102, 922, 608, 868, 531, 335, 712, 314,\n",
        "       273, 396, 725, 727, 468, 139, 273, 168, 346, 968, 218, 304, 231,\n",
        "       429, 910, 435, 822, 195, 650, 573, 611, 199, 455, 687, 878, 863,\n",
        "        17, 283, 584, 211, 492, 925, 425, 518, 770, 575, 201, 365, 361,\n",
        "       162, 476, 881, 184, 685,  85, 769,   5,  37, 257, 364,  55, 846,\n",
        "        72, 943, 988, 840, 589, 795, 213, 546, 335, 670, 356, 712, 338,\n",
        "       657, 321, 381, 383,  26, 738, 682, 508, 328, 471, 763, 384,  70,\n",
        "       819, 129, 275, 762, 823, 974, 989, 136, 822, 257, 520, 780, 476,\n",
        "       875, 356, 981, 289, 936, 431,  22, 732, 230, 166, 851, 916, 382,\n",
        "       515, 204, 382, 560, 528, 462, 576, 976, 811, 837, 848, 215, 511,\n",
        "       622,  16, 119, 394, 786, 364, 490, 657, 169, 261, 966, 708, 752,\n",
        "       662, 937, 163, 973, 888, 864, 285, 203, 734, 762, 271, 933, 730,\n",
        "         4, 867, 645, 359, 956, 412, 303, 649, 508, 189, 624, 872, 146,\n",
        "       996, 148, 232, 624, 773, 246, 236, 176, 520, 510, 634, 982, 443,\n",
        "       818, 770, 188, 705, 812, 516, 290, 501, 659, 931, 987, 873, 650,\n",
        "       453, 218, 445, 796, 438, 441, 512, 346, 937, 738, 777, 308, 101,\n",
        "       554, 405, 896, 198, 981, 798, 770, 441, 374, 223, 766, 541, 903,\n",
        "       837, 637, 652, 356,  96, 823,  50, 424, 464, 930, 207, 460, 258,\n",
        "       397, 340, 664, 397, 880, 187, 566, 160, 709, 675, 719, 612, 544,\n",
        "       142, 241, 510, 176, 273,  94, 368, 563, 964, 645, 468, 234, 491,\n",
        "       864, 209,  22, 377, 318, 474,  73, 837, 118, 247, 819, 845, 165,\n",
        "       602, 236, 610, 909, 756, 684, 387, 589,   8, 260, 538, 352])"
       ]
      }
     ],
     "prompt_number": 27
    },
    {
     "cell_type": "code",
     "collapsed": false,
     "input": [
      "pts = df.iloc[draw_points(df)]\n",
      "mod_ = sm.OLS.from_formula(\"y ~ X1 + X2\", df)\n",
      "res_ = mod_.fit()\n",
      "res_.summary()"
     ],
     "language": "python",
     "metadata": {},
     "outputs": [
      {
       "html": [
        "<table class=\"simpletable\">\n",
        "<caption>OLS Regression Results</caption>\n",
        "<tr>\n",
        "  <th>Dep. Variable:</th>            <td>y</td>        <th>  R-squared:         </th> <td>   0.117</td>\n",
        "</tr>\n",
        "<tr>\n",
        "  <th>Model:</th>                   <td>OLS</td>       <th>  Adj. R-squared:    </th> <td>   0.115</td>\n",
        "</tr>\n",
        "<tr>\n",
        "  <th>Method:</th>             <td>Least Squares</td>  <th>  F-statistic:       </th> <td>   66.14</td>\n",
        "</tr>\n",
        "<tr>\n",
        "  <th>Date:</th>             <td>Thu, 20 Feb 2014</td> <th>  Prob (F-statistic):</th> <td>1.06e-27</td>\n",
        "</tr>\n",
        "<tr>\n",
        "  <th>Time:</th>                 <td>13:00:18</td>     <th>  Log-Likelihood:    </th> <td> -810.66</td>\n",
        "</tr>\n",
        "<tr>\n",
        "  <th>No. Observations:</th>      <td>  1000</td>      <th>  AIC:               </th> <td>   1627.</td>\n",
        "</tr>\n",
        "<tr>\n",
        "  <th>Df Residuals:</th>          <td>   997</td>      <th>  BIC:               </th> <td>   1642.</td>\n",
        "</tr>\n",
        "<tr>\n",
        "  <th>Df Model:</th>              <td>     2</td>      <th>                     </th>     <td> </td>   \n",
        "</tr>\n",
        "</table>\n",
        "<table class=\"simpletable\">\n",
        "<tr>\n",
        "      <td></td>         <th>coef</th>     <th>std err</th>      <th>t</th>      <th>P>|t|</th> <th>[95.0% Conf. Int.]</th> \n",
        "</tr>\n",
        "<tr>\n",
        "  <th>Intercept</th> <td>    0.2658</td> <td>    0.020</td> <td>   13.372</td> <td> 0.000</td> <td>    0.227     0.305</td>\n",
        "</tr>\n",
        "<tr>\n",
        "  <th>X1</th>        <td>    0.1453</td> <td>    0.026</td> <td>    5.604</td> <td> 0.000</td> <td>    0.094     0.196</td>\n",
        "</tr>\n",
        "<tr>\n",
        "  <th>X2</th>        <td>    0.3134</td> <td>    0.029</td> <td>   10.722</td> <td> 0.000</td> <td>    0.256     0.371</td>\n",
        "</tr>\n",
        "</table>\n",
        "<table class=\"simpletable\">\n",
        "<tr>\n",
        "  <th>Omnibus:</th>       <td> 9.703</td> <th>  Durbin-Watson:     </th> <td>   0.002</td>\n",
        "</tr>\n",
        "<tr>\n",
        "  <th>Prob(Omnibus):</th> <td> 0.008</td> <th>  Jarque-Bera (JB):  </th> <td>  13.694</td>\n",
        "</tr>\n",
        "<tr>\n",
        "  <th>Skew:</th>          <td>-0.065</td> <th>  Prob(JB):          </th> <td> 0.00106</td>\n",
        "</tr>\n",
        "<tr>\n",
        "  <th>Kurtosis:</th>      <td> 3.558</td> <th>  Cond. No.          </th> <td>    2.01</td>\n",
        "</tr>\n",
        "</table>"
       ],
       "metadata": {},
       "output_type": "pyout",
       "prompt_number": 32,
       "text": [
        "<class 'statsmodels.iolib.summary.Summary'>\n",
        "\"\"\"\n",
        "                            OLS Regression Results                            \n",
        "==============================================================================\n",
        "Dep. Variable:                      y   R-squared:                       0.117\n",
        "Model:                            OLS   Adj. R-squared:                  0.115\n",
        "Method:                 Least Squares   F-statistic:                     66.14\n",
        "Date:                Thu, 20 Feb 2014   Prob (F-statistic):           1.06e-27\n",
        "Time:                        13:00:18   Log-Likelihood:                -810.66\n",
        "No. Observations:                1000   AIC:                             1627.\n",
        "Df Residuals:                     997   BIC:                             1642.\n",
        "Df Model:                           2                                         \n",
        "==============================================================================\n",
        "                 coef    std err          t      P>|t|      [95.0% Conf. Int.]\n",
        "------------------------------------------------------------------------------\n",
        "Intercept      0.2658      0.020     13.372      0.000         0.227     0.305\n",
        "X1             0.1453      0.026      5.604      0.000         0.094     0.196\n",
        "X2             0.3134      0.029     10.722      0.000         0.256     0.371\n",
        "==============================================================================\n",
        "Omnibus:                        9.703   Durbin-Watson:                   0.002\n",
        "Prob(Omnibus):                  0.008   Jarque-Bera (JB):               13.694\n",
        "Skew:                          -0.065   Prob(JB):                      0.00106\n",
        "Kurtosis:                       3.558   Cond. No.                         2.01\n",
        "==============================================================================\n",
        "\"\"\""
       ]
      }
     ],
     "prompt_number": 32
    },
    {
     "cell_type": "code",
     "collapsed": false,
     "input": [
      "res.bse"
     ],
     "language": "python",
     "metadata": {},
     "outputs": [
      {
       "metadata": {},
       "output_type": "pyout",
       "prompt_number": 34,
       "text": [
        "Intercept    0.019880\n",
        "X1           0.025933\n",
        "X2           0.029227\n",
        "dtype: float64"
       ]
      }
     ],
     "prompt_number": 34
    },
    {
     "cell_type": "code",
     "collapsed": false,
     "input": [
      "def bootstrap(df, formula, param, n=1000):\n",
      "    bhats = []\n",
      "    \n",
      "    for n in xrange(n):\n",
      "        pts = draw_points(df)\n",
      "        mod = sm.OLS.from_formula(formula, df)\n",
      "        res = mod.fit()\n",
      "        bhats.append(res.params[param])\n",
      "    \n",
      "    bhats = np.array(bhats)\n",
      "    return bhats"
     ],
     "language": "python",
     "metadata": {},
     "outputs": [],
     "prompt_number": 45
    },
    {
     "cell_type": "code",
     "collapsed": false,
     "input": [
      "hats = bootstrap(df, \"y ~ X1 + X2\", \"X1\")"
     ],
     "language": "python",
     "metadata": {},
     "outputs": [],
     "prompt_number": 46
    },
    {
     "cell_type": "code",
     "collapsed": false,
     "input": [
      "np.std(hats, ddof=1)"
     ],
     "language": "python",
     "metadata": {},
     "outputs": [
      {
       "metadata": {},
       "output_type": "pyout",
       "prompt_number": 47,
       "text": [
        "3.1934883393527618e-15"
       ]
      }
     ],
     "prompt_number": 47
    },
    {
     "cell_type": "code",
     "collapsed": false,
     "input": [
      "hats[-4:]"
     ],
     "language": "python",
     "metadata": {},
     "outputs": [
      {
       "metadata": {},
       "output_type": "pyout",
       "prompt_number": 43,
       "text": [
        "array([ 0.02593295,  0.02593295,  0.02593295,  0.02593295])"
       ]
      }
     ],
     "prompt_number": 43
    },
    {
     "cell_type": "code",
     "collapsed": false,
     "input": [
      "np.sqrt((1 / hats.size - 1) * (hats - hats.mean()) ** 2)"
     ],
     "language": "python",
     "metadata": {},
     "outputs": [
      {
       "metadata": {},
       "output_type": "pyout",
       "prompt_number": 41,
       "text": [
        "array([ nan,  nan,  nan,  nan,  nan,  nan,  nan,  nan,  nan,  nan,  nan,\n",
        "        nan,  nan,  nan,  nan,  nan,  nan,  nan,  nan,  nan,  nan,  nan,\n",
        "        nan,  nan,  nan,  nan,  nan,  nan,  nan,  nan,  nan,  nan,  nan,\n",
        "        nan,  nan,  nan,  nan,  nan,  nan,  nan,  nan,  nan,  nan,  nan,\n",
        "        nan,  nan,  nan,  nan,  nan,  nan,  nan,  nan,  nan,  nan,  nan,\n",
        "        nan,  nan,  nan,  nan,  nan,  nan,  nan,  nan,  nan,  nan,  nan,\n",
        "        nan,  nan,  nan,  nan,  nan,  nan,  nan,  nan,  nan,  nan,  nan,\n",
        "        nan,  nan,  nan,  nan,  nan,  nan,  nan,  nan,  nan,  nan,  nan,\n",
        "        nan,  nan,  nan,  nan,  nan,  nan,  nan,  nan,  nan,  nan,  nan,\n",
        "        nan,  nan,  nan,  nan,  nan,  nan,  nan,  nan,  nan,  nan,  nan,\n",
        "        nan,  nan,  nan,  nan,  nan,  nan,  nan,  nan,  nan,  nan,  nan,\n",
        "        nan,  nan,  nan,  nan,  nan,  nan,  nan,  nan,  nan,  nan,  nan,\n",
        "        nan,  nan,  nan,  nan,  nan,  nan,  nan,  nan,  nan,  nan,  nan,\n",
        "        nan,  nan,  nan,  nan,  nan,  nan,  nan,  nan,  nan,  nan,  nan,\n",
        "        nan,  nan,  nan,  nan,  nan,  nan,  nan,  nan,  nan,  nan,  nan,\n",
        "        nan,  nan,  nan,  nan,  nan,  nan,  nan,  nan,  nan,  nan,  nan,\n",
        "        nan,  nan,  nan,  nan,  nan,  nan,  nan,  nan,  nan,  nan,  nan,\n",
        "        nan,  nan,  nan,  nan,  nan,  nan,  nan,  nan,  nan,  nan,  nan,\n",
        "        nan,  nan,  nan,  nan,  nan,  nan,  nan,  nan,  nan,  nan,  nan,\n",
        "        nan,  nan,  nan,  nan,  nan,  nan,  nan,  nan,  nan,  nan,  nan,\n",
        "        nan,  nan,  nan,  nan,  nan,  nan,  nan,  nan,  nan,  nan,  nan,\n",
        "        nan,  nan,  nan,  nan,  nan,  nan,  nan,  nan,  nan,  nan,  nan,\n",
        "        nan,  nan,  nan,  nan,  nan,  nan,  nan,  nan,  nan,  nan,  nan,\n",
        "        nan,  nan,  nan,  nan,  nan,  nan,  nan,  nan,  nan,  nan,  nan,\n",
        "        nan,  nan,  nan,  nan,  nan,  nan,  nan,  nan,  nan,  nan,  nan,\n",
        "        nan,  nan,  nan,  nan,  nan,  nan,  nan,  nan,  nan,  nan,  nan,\n",
        "        nan,  nan,  nan,  nan,  nan,  nan,  nan,  nan,  nan,  nan,  nan,\n",
        "        nan,  nan,  nan,  nan,  nan,  nan,  nan,  nan,  nan,  nan,  nan,\n",
        "        nan,  nan,  nan,  nan,  nan,  nan,  nan,  nan,  nan,  nan,  nan,\n",
        "        nan,  nan,  nan,  nan,  nan,  nan,  nan,  nan,  nan,  nan,  nan,\n",
        "        nan,  nan,  nan,  nan,  nan,  nan,  nan,  nan,  nan,  nan,  nan,\n",
        "        nan,  nan,  nan,  nan,  nan,  nan,  nan,  nan,  nan,  nan,  nan,\n",
        "        nan,  nan,  nan,  nan,  nan,  nan,  nan,  nan,  nan,  nan,  nan,\n",
        "        nan,  nan,  nan,  nan,  nan,  nan,  nan,  nan,  nan,  nan,  nan,\n",
        "        nan,  nan,  nan,  nan,  nan,  nan,  nan,  nan,  nan,  nan,  nan,\n",
        "        nan,  nan,  nan,  nan,  nan,  nan,  nan,  nan,  nan,  nan,  nan,\n",
        "        nan,  nan,  nan,  nan,  nan,  nan,  nan,  nan,  nan,  nan,  nan,\n",
        "        nan,  nan,  nan,  nan,  nan,  nan,  nan,  nan,  nan,  nan,  nan,\n",
        "        nan,  nan,  nan,  nan,  nan,  nan,  nan,  nan,  nan,  nan,  nan,\n",
        "        nan,  nan,  nan,  nan,  nan,  nan,  nan,  nan,  nan,  nan,  nan,\n",
        "        nan,  nan,  nan,  nan,  nan,  nan,  nan,  nan,  nan,  nan,  nan,\n",
        "        nan,  nan,  nan,  nan,  nan,  nan,  nan,  nan,  nan,  nan,  nan,\n",
        "        nan,  nan,  nan,  nan,  nan,  nan,  nan,  nan,  nan,  nan,  nan,\n",
        "        nan,  nan,  nan,  nan,  nan,  nan,  nan,  nan,  nan,  nan,  nan,\n",
        "        nan,  nan,  nan,  nan,  nan,  nan,  nan,  nan,  nan,  nan,  nan,\n",
        "        nan,  nan,  nan,  nan,  nan,  nan,  nan,  nan,  nan,  nan,  nan,\n",
        "        nan,  nan,  nan,  nan,  nan,  nan,  nan,  nan,  nan,  nan,  nan,\n",
        "        nan,  nan,  nan,  nan,  nan,  nan,  nan,  nan,  nan,  nan,  nan,\n",
        "        nan,  nan,  nan,  nan,  nan,  nan,  nan,  nan,  nan,  nan,  nan,\n",
        "        nan,  nan,  nan,  nan,  nan,  nan,  nan,  nan,  nan,  nan,  nan,\n",
        "        nan,  nan,  nan,  nan,  nan,  nan,  nan,  nan,  nan,  nan,  nan,\n",
        "        nan,  nan,  nan,  nan,  nan,  nan,  nan,  nan,  nan,  nan,  nan,\n",
        "        nan,  nan,  nan,  nan,  nan,  nan,  nan,  nan,  nan,  nan,  nan,\n",
        "        nan,  nan,  nan,  nan,  nan,  nan,  nan,  nan,  nan,  nan,  nan,\n",
        "        nan,  nan,  nan,  nan,  nan,  nan,  nan,  nan,  nan,  nan,  nan,\n",
        "        nan,  nan,  nan,  nan,  nan,  nan,  nan,  nan,  nan,  nan,  nan,\n",
        "        nan,  nan,  nan,  nan,  nan,  nan,  nan,  nan,  nan,  nan,  nan,\n",
        "        nan,  nan,  nan,  nan,  nan,  nan,  nan,  nan,  nan,  nan,  nan,\n",
        "        nan,  nan,  nan,  nan,  nan,  nan,  nan,  nan,  nan,  nan,  nan,\n",
        "        nan,  nan,  nan,  nan,  nan,  nan,  nan,  nan,  nan,  nan,  nan,\n",
        "        nan,  nan,  nan,  nan,  nan,  nan,  nan,  nan,  nan,  nan,  nan,\n",
        "        nan,  nan,  nan,  nan,  nan,  nan,  nan,  nan,  nan,  nan,  nan,\n",
        "        nan,  nan,  nan,  nan,  nan,  nan,  nan,  nan,  nan,  nan,  nan,\n",
        "        nan,  nan,  nan,  nan,  nan,  nan,  nan,  nan,  nan,  nan,  nan,\n",
        "        nan,  nan,  nan,  nan,  nan,  nan,  nan,  nan,  nan,  nan,  nan,\n",
        "        nan,  nan,  nan,  nan,  nan,  nan,  nan,  nan,  nan,  nan,  nan,\n",
        "        nan,  nan,  nan,  nan,  nan,  nan,  nan,  nan,  nan,  nan,  nan,\n",
        "        nan,  nan,  nan,  nan,  nan,  nan,  nan,  nan,  nan,  nan,  nan,\n",
        "        nan,  nan,  nan,  nan,  nan,  nan,  nan,  nan,  nan,  nan,  nan,\n",
        "        nan,  nan,  nan,  nan,  nan,  nan,  nan,  nan,  nan,  nan,  nan,\n",
        "        nan,  nan,  nan,  nan,  nan,  nan,  nan,  nan,  nan,  nan,  nan,\n",
        "        nan,  nan,  nan,  nan,  nan,  nan,  nan,  nan,  nan,  nan,  nan,\n",
        "        nan,  nan,  nan,  nan,  nan,  nan,  nan,  nan,  nan,  nan,  nan,\n",
        "        nan,  nan,  nan,  nan,  nan,  nan,  nan,  nan,  nan,  nan,  nan,\n",
        "        nan,  nan,  nan,  nan,  nan,  nan,  nan,  nan,  nan,  nan,  nan,\n",
        "        nan,  nan,  nan,  nan,  nan,  nan,  nan,  nan,  nan,  nan,  nan,\n",
        "        nan,  nan,  nan,  nan,  nan,  nan,  nan,  nan,  nan,  nan,  nan,\n",
        "        nan,  nan,  nan,  nan,  nan,  nan,  nan,  nan,  nan,  nan,  nan,\n",
        "        nan,  nan,  nan,  nan,  nan,  nan,  nan,  nan,  nan,  nan,  nan,\n",
        "        nan,  nan,  nan,  nan,  nan,  nan,  nan,  nan,  nan,  nan,  nan,\n",
        "        nan,  nan,  nan,  nan,  nan,  nan,  nan,  nan,  nan,  nan,  nan,\n",
        "        nan,  nan,  nan,  nan,  nan,  nan,  nan,  nan,  nan,  nan,  nan,\n",
        "        nan,  nan,  nan,  nan,  nan,  nan,  nan,  nan,  nan,  nan,  nan,\n",
        "        nan,  nan,  nan,  nan,  nan,  nan,  nan,  nan,  nan,  nan,  nan,\n",
        "        nan,  nan,  nan,  nan,  nan,  nan,  nan,  nan,  nan,  nan,  nan,\n",
        "        nan,  nan,  nan,  nan,  nan,  nan,  nan,  nan,  nan,  nan,  nan,\n",
        "        nan,  nan,  nan,  nan,  nan,  nan,  nan,  nan,  nan,  nan,  nan,\n",
        "        nan,  nan,  nan,  nan,  nan,  nan,  nan,  nan,  nan,  nan,  nan,\n",
        "        nan,  nan,  nan,  nan,  nan,  nan,  nan,  nan,  nan,  nan,  nan,\n",
        "        nan,  nan,  nan,  nan,  nan,  nan,  nan,  nan,  nan,  nan,  nan,\n",
        "        nan,  nan,  nan,  nan,  nan,  nan,  nan,  nan,  nan,  nan])"
       ]
      }
     ],
     "prompt_number": 41
    }
   ],
   "metadata": {}
  }
 ]
}