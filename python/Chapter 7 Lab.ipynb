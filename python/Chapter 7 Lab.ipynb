{
 "metadata": {
  "name": "",
  "signature": "sha256:e3742a7bfc2d21ec8da68be0073310aec5208d0e1540346dbd8214c6bdc287a0"
 },
 "nbformat": 3,
 "nbformat_minor": 0,
 "worksheets": [
  {
   "cells": [
    {
     "cell_type": "heading",
     "level": 1,
     "metadata": {},
     "source": [
      "Lab 1: Subset Selection Methods"
     ]
    },
    {
     "cell_type": "heading",
     "level": 2,
     "metadata": {},
     "source": [
      "6.5.1 Best Subset Selection"
     ]
    },
    {
     "cell_type": "code",
     "collapsed": false,
     "input": [
      "%matplotlib inline\n",
      "%load_ext rmagic"
     ],
     "language": "python",
     "metadata": {},
     "outputs": [],
     "prompt_number": 1
    },
    {
     "cell_type": "code",
     "collapsed": false,
     "input": [
      "import numpy as np\n",
      "import pandas as pd\n",
      "import seaborn as sns\n",
      "import matplotlib.pyplot as plt"
     ],
     "language": "python",
     "metadata": {},
     "outputs": [],
     "prompt_number": 2
    },
    {
     "cell_type": "code",
     "collapsed": false,
     "input": [
      "%%R\n",
      "library(ISLR)\n",
      "write.csv(Hitters, \"../data/Hitters.csv\")"
     ],
     "language": "python",
     "metadata": {},
     "outputs": [],
     "prompt_number": 4
    },
    {
     "cell_type": "code",
     "collapsed": false,
     "input": [
      "df = pd.read_csv(\"../data/Hitters.csv\", index_col=0)\n",
      "df = df.dropna()\n",
      "\n",
      "league, league_labels = pd.factorize(df.League)\n",
      "div, div_labels = pd.factorize(df.Division)\n",
      "new_league, new_league_labels = pd.factorize(df.NewLeague)\n",
      "\n",
      "df['League'] = league\n",
      "df['Division'] = div\n",
      "df['NewLeague'] = new_league"
     ],
     "language": "python",
     "metadata": {},
     "outputs": [],
     "prompt_number": 33
    },
    {
     "cell_type": "code",
     "collapsed": false,
     "input": [
      "y = df.Salary\n",
      "labels = (df.columns - ['Salary']).tolist()\n",
      "\n",
      "X = df[labels].values"
     ],
     "language": "python",
     "metadata": {},
     "outputs": [],
     "prompt_number": 34
    },
    {
     "cell_type": "code",
     "collapsed": false,
     "input": [
      "import sklearn.cross_validation as cv\n",
      "from sklearn import linear_model as lm\n",
      "from sklearn.pipeline import Pipeline\n",
      "from sklearn.feature_selection import SelectKBest\n",
      "from sklearn.feature_selection import RFECV"
     ],
     "language": "python",
     "metadata": {},
     "outputs": [],
     "prompt_number": 135
    },
    {
     "cell_type": "heading",
     "level": 2,
     "metadata": {},
     "source": [
      "Lab 2: Ridge Regression and the Lasso"
     ]
    },
    {
     "cell_type": "code",
     "collapsed": false,
     "input": [
      "alpha_grid = np.linspace(10e-5, 10e10, 100)\n",
      "\n",
      "clf = lm.RidgeCV(alphas=alpha_grid, normalize=True,\n",
      "                 store_cv_values=True)\n",
      "clf.fit(X, y)"
     ],
     "language": "python",
     "metadata": {},
     "outputs": [
      {
       "metadata": {},
       "output_type": "pyout",
       "prompt_number": 175,
       "text": [
        "RidgeCV(alphas=array([  1.00000e-04,   1.01010e+09, ...,   9.89899e+10,   1.00000e+11]),\n",
        "    cv=None, fit_intercept=True, gcv_mode=None, loss_func=None,\n",
        "    normalize=True, score_func=None, scoring=None, store_cv_values=True)"
       ]
      }
     ],
     "prompt_number": 175
    },
    {
     "cell_type": "code",
     "collapsed": false,
     "input": [
      "def plot_cv(clf):\n",
      "    fig, ax = plt.subplots()\n",
      "    lines = ax.plot(clf.alphas, clf.cv_values_.T)\n",
      "    return ax"
     ],
     "language": "python",
     "metadata": {},
     "outputs": [],
     "prompt_number": 176
    },
    {
     "cell_type": "code",
     "collapsed": false,
     "input": [
      "print(\"alpha: \", clf.alpha_)\n",
      "clf.coef_"
     ],
     "language": "python",
     "metadata": {},
     "outputs": [
      {
       "output_type": "stream",
       "stream": "stdout",
       "text": [
        "alpha:  0.0001\n"
       ]
      },
      {
       "metadata": {},
       "output_type": "pyout",
       "prompt_number": 177,
       "text": [
        "array([   0.36968793,   -1.97676667,   -0.16872258,    0.14129765,\n",
        "         -0.13280968,    0.78940501,    1.42980707,   -0.8065684 ,\n",
        "        117.00389007,   -3.37310428,    7.4663611 ,    4.22492873,\n",
        "        -62.626843  ,   24.94691265,    0.28189511,   -1.01198777,\n",
        "         -2.32008526,    6.21385873,   -3.6847386 ])"
       ]
      }
     ],
     "prompt_number": 177
    },
    {
     "cell_type": "code",
     "collapsed": false,
     "input": [
      "alphas, coefs, dual_gaps = lm.lasso_path(X, y.values)"
     ],
     "language": "python",
     "metadata": {},
     "outputs": [
      {
       "output_type": "stream",
       "stream": "stderr",
       "text": [
        "/Users/admin/Envs//py3/lib/python3.4/site-packages/sklearn/linear_model/coordinate_descent.py:262: DeprecationWarning: fit_intercept param will be removed in 0.16. Intercept fitting and feature normalization will be done in estimators.\n",
        "  return_models=return_models, **params)\n"
       ]
      }
     ],
     "prompt_number": 178
    },
    {
     "cell_type": "code",
     "collapsed": false,
     "input": [
      "fig, ax = plt.subplots()\n",
      "lines = ax.plot(alphas, coefs.T)\n",
      "ax.set_xlim(alphas[0], alphas[-1])\n",
      "ax.set_xscale('log')  # wouldn't labels be great"
     ],
     "language": "python",
     "metadata": {},
     "outputs": [
      {
       "metadata": {},
       "output_type": "display_data",
       "png": "[encoded data removed]",
       "text": [
        "<matplotlib.figure.Figure at 0x1183c1f60>"
       ]
      }
     ],
     "prompt_number": 179
    },
    {
     "cell_type": "heading",
     "level": 3,
     "metadata": {},
     "source": [
      "6.6.2 The Lasso"
     ]
    },
    {
     "cell_type": "code",
     "collapsed": false,
     "input": [
      "X_train, X_test, y_train, y_test = cv.train_test_split(X, y, test_size=.1)"
     ],
     "language": "python",
     "metadata": {},
     "outputs": [],
     "prompt_number": 180
    },
    {
     "cell_type": "code",
     "collapsed": false,
     "input": [
      "clf = lm.LassoCV(alphas=alpha_grid, normalize=True)\n",
      "clf.fit(X_train, y_train)"
     ],
     "language": "python",
     "metadata": {},
     "outputs": [
      {
       "metadata": {},
       "output_type": "pyout",
       "prompt_number": 181,
       "text": [
        "LassoCV(alphas=array([  1.00000e-04,   1.01010e+09, ...,   9.89899e+10,   1.00000e+11]),\n",
        "    copy_X=True, cv=None, eps=0.001, fit_intercept=True, max_iter=1000,\n",
        "    n_alphas=100, n_jobs=1, normalize=True, positive=False,\n",
        "    precompute='auto', tol=0.0001, verbose=False)"
       ]
      }
     ],
     "prompt_number": 181
    },
    {
     "cell_type": "code",
     "collapsed": false,
     "input": [
      "print(clf.alpha_)\n",
      "clf.score(X_test, y_test)\n"
     ],
     "language": "python",
     "metadata": {},
     "outputs": [
      {
       "output_type": "stream",
       "stream": "stdout",
       "text": [
        "0.0001\n"
       ]
      },
      {
       "metadata": {},
       "output_type": "pyout",
       "prompt_number": 184,
       "text": [
        "0.066497063534717071"
       ]
      }
     ],
     "prompt_number": 184
    }
   ],
   "metadata": {}
  }
 ]
}